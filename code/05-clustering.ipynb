{
 "cells": [
  {
   "cell_type": "markdown",
   "metadata": {},
   "source": [
    "# TEST CODE - not complete"
   ]
  },
  {
   "cell_type": "markdown",
   "metadata": {},
   "source": []
  },
  {
   "cell_type": "code",
   "execution_count": null,
   "metadata": {
    "vscode": {
     "languageId": "plaintext"
    }
   },
   "outputs": [],
   "source": []
  },
  {
   "cell_type": "markdown",
   "metadata": {},
   "source": [
    "### k-means clustering"
   ]
  },
  {
   "cell_type": "code",
   "execution_count": null,
   "metadata": {},
   "outputs": [],
   "source": [
    "from sklearn.cluster import KMeans\n",
    "from sklearn.preprocessing import StandardScaler\n",
    "from sklearn.metrics import silhouette_score"
   ]
  },
  {
   "cell_type": "code",
   "execution_count": null,
   "metadata": {},
   "outputs": [
    {
     "data": {
      "text/plain": [
       "Index(['search_log_session_id', 'search_log_id', 'session_id',\n",
       "       'search_log_room_id', 'uuid', 'utc_datetime', 'utm_source',\n",
       "       'utm_medium', 'utm_campaign', 'lang_code', 'currency', 'arrival',\n",
       "       'departure', 'nights', 'adults', 'children', 'if_children',\n",
       "       'children_age_mean', 'conversion', 'sel_num_of_rooms',\n",
       "       'mean_room_price', 'total_price_p_night', 'picked_room', 'baby_bed',\n",
       "       'pieces', 'sum_price', 'total_price_final', 'rooms_total_price',\n",
       "       'upsell_total_price', 'vouchers_total_price', 'loyalty_discount_total',\n",
       "       'redeemed_loyalty_points_total', 'hotel_id', 'rfm_monetary_score',\n",
       "       'rfm_duration_score', '0_age', '1_age', '2_age', '3_age', '4_age',\n",
       "       'ROOMAA_room_price_min', 'offered_price_median', 'offered_price_min',\n",
       "       'offered_price_max', 'ROOMAA_room_price_max', 'ROOMBB_room_price_min',\n",
       "       'ROOMBB_room_price_max', 'ROOMCC_room_price_min',\n",
       "       'ROOMCC_room_price_max', 'ROOMDD_room_price_min',\n",
       "       'ROOMDD_room_price_max', 'ROOMEE_room_price_min',\n",
       "       'ROOMEE_room_price_max', 'ROOMFF_room_price_min',\n",
       "       'ROOMFF_room_price_max', 'ROOMGG_room_price_min',\n",
       "       'ROOMGG_room_price_max', 'ROOMHH_room_price_min',\n",
       "       'ROOMHH_room_price_max', 'day_of_week', 'is_holiday', 'time_of_day',\n",
       "       'stay_dates', 'lead_time', 'lead_time_category', 'arrival_day_of_week',\n",
       "       'departure_day_of_week', 'arrival_is_holiday', 'departure_is_holiday',\n",
       "       'stay_includes_weekend', 'days_of_week_in_stay', 'num_saturdays',\n",
       "       'num_sundays'],\n",
       "      dtype='object')"
      ]
     },
     "metadata": {},
     "output_type": "display_data"
    }
   ],
   "source": [
    "df_unique.columns"
   ]
  },
  {
   "cell_type": "code",
   "execution_count": null,
   "metadata": {},
   "outputs": [],
   "source": [
    "X = df_unique[['sel_num_of_rooms','if_children','nights','adults','children','children_age_mean','conversion','total_price_p_night','upsell_total_price','lead_time']].fillna(value=0)"
   ]
  },
  {
   "cell_type": "code",
   "execution_count": null,
   "metadata": {},
   "outputs": [],
   "source": [
    "scaler = StandardScaler()\n",
    "X_scaled = scaler.fit_transform(X)\n",
    "\n",
    "\n",
    "# preprocessing: one hot encoding currency, pca?"
   ]
  },
  {
   "cell_type": "code",
   "execution_count": null,
   "metadata": {},
   "outputs": [
    {
     "ename": "KeyboardInterrupt",
     "evalue": "",
     "output_type": "error",
     "traceback": [
      "\u001b[0;31m---------------------------------------------------------------------------\u001b[0m\n",
      "\u001b[0;31mKeyboardInterrupt\u001b[0m                         Traceback (most recent call last)\n",
      "Cell \u001b[0;32mIn[455], line 6\u001b[0m\n",
      "\u001b[1;32m      4\u001b[0m km \u001b[38;5;241m=\u001b[39m KMeans(n_clusters\u001b[38;5;241m=\u001b[39mk)\u001b[38;5;241m.\u001b[39mfit(X_scaled)\n",
      "\u001b[1;32m      5\u001b[0m km_inertias\u001b[38;5;241m.\u001b[39mappend(km\u001b[38;5;241m.\u001b[39minertia_)\n",
      "\u001b[0;32m----> 6\u001b[0m km_scores\u001b[38;5;241m.\u001b[39mappend(\u001b[43msilhouette_score\u001b[49m\u001b[43m(\u001b[49m\u001b[43mX_scaled\u001b[49m\u001b[43m,\u001b[49m\u001b[43m \u001b[49m\u001b[43mkm\u001b[49m\u001b[38;5;241;43m.\u001b[39;49m\u001b[43mlabels_\u001b[49m\u001b[43m)\u001b[49m)\n",
      "\n",
      "File \u001b[0;32m/Library/Frameworks/Python.framework/Versions/3.12/lib/python3.12/site-packages/sklearn/utils/_param_validation.py:213\u001b[0m, in \u001b[0;36mvalidate_params.<locals>.decorator.<locals>.wrapper\u001b[0;34m(*args, **kwargs)\u001b[0m\n",
      "\u001b[1;32m    207\u001b[0m \u001b[38;5;28;01mtry\u001b[39;00m:\n",
      "\u001b[1;32m    208\u001b[0m     \u001b[38;5;28;01mwith\u001b[39;00m config_context(\n",
      "\u001b[1;32m    209\u001b[0m         skip_parameter_validation\u001b[38;5;241m=\u001b[39m(\n",
      "\u001b[1;32m    210\u001b[0m             prefer_skip_nested_validation \u001b[38;5;129;01mor\u001b[39;00m global_skip_validation\n",
      "\u001b[1;32m    211\u001b[0m         )\n",
      "\u001b[1;32m    212\u001b[0m     ):\n",
      "\u001b[0;32m--> 213\u001b[0m         \u001b[38;5;28;01mreturn\u001b[39;00m \u001b[43mfunc\u001b[49m\u001b[43m(\u001b[49m\u001b[38;5;241;43m*\u001b[39;49m\u001b[43margs\u001b[49m\u001b[43m,\u001b[49m\u001b[43m \u001b[49m\u001b[38;5;241;43m*\u001b[39;49m\u001b[38;5;241;43m*\u001b[39;49m\u001b[43mkwargs\u001b[49m\u001b[43m)\u001b[49m\n",
      "\u001b[1;32m    214\u001b[0m \u001b[38;5;28;01mexcept\u001b[39;00m InvalidParameterError \u001b[38;5;28;01mas\u001b[39;00m e:\n",
      "\u001b[1;32m    215\u001b[0m     \u001b[38;5;66;03m# When the function is just a wrapper around an estimator, we allow\u001b[39;00m\n",
      "\u001b[1;32m    216\u001b[0m     \u001b[38;5;66;03m# the function to delegate validation to the estimator, but we replace\u001b[39;00m\n",
      "\u001b[1;32m    217\u001b[0m     \u001b[38;5;66;03m# the name of the estimator by the name of the function in the error\u001b[39;00m\n",
      "\u001b[1;32m    218\u001b[0m     \u001b[38;5;66;03m# message to avoid confusion.\u001b[39;00m\n",
      "\u001b[1;32m    219\u001b[0m     msg \u001b[38;5;241m=\u001b[39m re\u001b[38;5;241m.\u001b[39msub(\n",
      "\u001b[1;32m    220\u001b[0m         \u001b[38;5;124mr\u001b[39m\u001b[38;5;124m\"\u001b[39m\u001b[38;5;124mparameter of \u001b[39m\u001b[38;5;124m\\\u001b[39m\u001b[38;5;124mw+ must be\u001b[39m\u001b[38;5;124m\"\u001b[39m,\n",
      "\u001b[1;32m    221\u001b[0m         \u001b[38;5;124mf\u001b[39m\u001b[38;5;124m\"\u001b[39m\u001b[38;5;124mparameter of \u001b[39m\u001b[38;5;132;01m{\u001b[39;00mfunc\u001b[38;5;241m.\u001b[39m\u001b[38;5;18m__qualname__\u001b[39m\u001b[38;5;132;01m}\u001b[39;00m\u001b[38;5;124m must be\u001b[39m\u001b[38;5;124m\"\u001b[39m,\n",
      "\u001b[1;32m    222\u001b[0m         \u001b[38;5;28mstr\u001b[39m(e),\n",
      "\u001b[1;32m    223\u001b[0m     )\n",
      "\n",
      "File \u001b[0;32m/Library/Frameworks/Python.framework/Versions/3.12/lib/python3.12/site-packages/sklearn/metrics/cluster/_unsupervised.py:140\u001b[0m, in \u001b[0;36msilhouette_score\u001b[0;34m(X, labels, metric, sample_size, random_state, **kwds)\u001b[0m\n",
      "\u001b[1;32m    138\u001b[0m     \u001b[38;5;28;01melse\u001b[39;00m:\n",
      "\u001b[1;32m    139\u001b[0m         X, labels \u001b[38;5;241m=\u001b[39m X[indices], labels[indices]\n",
      "\u001b[0;32m--> 140\u001b[0m \u001b[38;5;28;01mreturn\u001b[39;00m np\u001b[38;5;241m.\u001b[39mmean(\u001b[43msilhouette_samples\u001b[49m\u001b[43m(\u001b[49m\u001b[43mX\u001b[49m\u001b[43m,\u001b[49m\u001b[43m \u001b[49m\u001b[43mlabels\u001b[49m\u001b[43m,\u001b[49m\u001b[43m \u001b[49m\u001b[43mmetric\u001b[49m\u001b[38;5;241;43m=\u001b[39;49m\u001b[43mmetric\u001b[49m\u001b[43m,\u001b[49m\u001b[43m \u001b[49m\u001b[38;5;241;43m*\u001b[39;49m\u001b[38;5;241;43m*\u001b[39;49m\u001b[43mkwds\u001b[49m\u001b[43m)\u001b[49m)\n",
      "\n",
      "File \u001b[0;32m/Library/Frameworks/Python.framework/Versions/3.12/lib/python3.12/site-packages/sklearn/utils/_param_validation.py:186\u001b[0m, in \u001b[0;36mvalidate_params.<locals>.decorator.<locals>.wrapper\u001b[0;34m(*args, **kwargs)\u001b[0m\n",
      "\u001b[1;32m    184\u001b[0m global_skip_validation \u001b[38;5;241m=\u001b[39m get_config()[\u001b[38;5;124m\"\u001b[39m\u001b[38;5;124mskip_parameter_validation\u001b[39m\u001b[38;5;124m\"\u001b[39m]\n",
      "\u001b[1;32m    185\u001b[0m \u001b[38;5;28;01mif\u001b[39;00m global_skip_validation:\n",
      "\u001b[0;32m--> 186\u001b[0m     \u001b[38;5;28;01mreturn\u001b[39;00m \u001b[43mfunc\u001b[49m\u001b[43m(\u001b[49m\u001b[38;5;241;43m*\u001b[39;49m\u001b[43margs\u001b[49m\u001b[43m,\u001b[49m\u001b[43m \u001b[49m\u001b[38;5;241;43m*\u001b[39;49m\u001b[38;5;241;43m*\u001b[39;49m\u001b[43mkwargs\u001b[49m\u001b[43m)\u001b[49m\n",
      "\u001b[1;32m    188\u001b[0m func_sig \u001b[38;5;241m=\u001b[39m signature(func)\n",
      "\u001b[1;32m    190\u001b[0m \u001b[38;5;66;03m# Map *args/**kwargs to the function signature\u001b[39;00m\n",
      "\n",
      "File \u001b[0;32m/Library/Frameworks/Python.framework/Versions/3.12/lib/python3.12/site-packages/sklearn/metrics/cluster/_unsupervised.py:303\u001b[0m, in \u001b[0;36msilhouette_samples\u001b[0;34m(X, labels, metric, **kwds)\u001b[0m\n",
      "\u001b[1;32m    299\u001b[0m kwds[\u001b[38;5;124m\"\u001b[39m\u001b[38;5;124mmetric\u001b[39m\u001b[38;5;124m\"\u001b[39m] \u001b[38;5;241m=\u001b[39m metric\n",
      "\u001b[1;32m    300\u001b[0m reduce_func \u001b[38;5;241m=\u001b[39m functools\u001b[38;5;241m.\u001b[39mpartial(\n",
      "\u001b[1;32m    301\u001b[0m     _silhouette_reduce, labels\u001b[38;5;241m=\u001b[39mlabels, label_freqs\u001b[38;5;241m=\u001b[39mlabel_freqs\n",
      "\u001b[1;32m    302\u001b[0m )\n",
      "\u001b[0;32m--> 303\u001b[0m results \u001b[38;5;241m=\u001b[39m \u001b[38;5;28;43mzip\u001b[39;49m\u001b[43m(\u001b[49m\u001b[38;5;241;43m*\u001b[39;49m\u001b[43mpairwise_distances_chunked\u001b[49m\u001b[43m(\u001b[49m\u001b[43mX\u001b[49m\u001b[43m,\u001b[49m\u001b[43m \u001b[49m\u001b[43mreduce_func\u001b[49m\u001b[38;5;241;43m=\u001b[39;49m\u001b[43mreduce_func\u001b[49m\u001b[43m,\u001b[49m\u001b[43m \u001b[49m\u001b[38;5;241;43m*\u001b[39;49m\u001b[38;5;241;43m*\u001b[39;49m\u001b[43mkwds\u001b[49m\u001b[43m)\u001b[49m\u001b[43m)\u001b[49m\n",
      "\u001b[1;32m    304\u001b[0m intra_clust_dists, inter_clust_dists \u001b[38;5;241m=\u001b[39m results\n",
      "\u001b[1;32m    305\u001b[0m intra_clust_dists \u001b[38;5;241m=\u001b[39m np\u001b[38;5;241m.\u001b[39mconcatenate(intra_clust_dists)\n",
      "\n",
      "File \u001b[0;32m/Library/Frameworks/Python.framework/Versions/3.12/lib/python3.12/site-packages/sklearn/metrics/pairwise.py:2153\u001b[0m, in \u001b[0;36mpairwise_distances_chunked\u001b[0;34m(X, Y, reduce_func, metric, n_jobs, working_memory, **kwds)\u001b[0m\n",
      "\u001b[1;32m   2151\u001b[0m \u001b[38;5;28;01mif\u001b[39;00m reduce_func \u001b[38;5;129;01mis\u001b[39;00m \u001b[38;5;129;01mnot\u001b[39;00m \u001b[38;5;28;01mNone\u001b[39;00m:\n",
      "\u001b[1;32m   2152\u001b[0m     chunk_size \u001b[38;5;241m=\u001b[39m D_chunk\u001b[38;5;241m.\u001b[39mshape[\u001b[38;5;241m0\u001b[39m]\n",
      "\u001b[0;32m-> 2153\u001b[0m     D_chunk \u001b[38;5;241m=\u001b[39m \u001b[43mreduce_func\u001b[49m\u001b[43m(\u001b[49m\u001b[43mD_chunk\u001b[49m\u001b[43m,\u001b[49m\u001b[43m \u001b[49m\u001b[43msl\u001b[49m\u001b[38;5;241;43m.\u001b[39;49m\u001b[43mstart\u001b[49m\u001b[43m)\u001b[49m\n",
      "\u001b[1;32m   2154\u001b[0m     _check_chunk_size(D_chunk, chunk_size)\n",
      "\u001b[1;32m   2155\u001b[0m \u001b[38;5;28;01myield\u001b[39;00m D_chunk\n",
      "\n",
      "File \u001b[0;32m/Library/Frameworks/Python.framework/Versions/3.12/lib/python3.12/site-packages/sklearn/metrics/cluster/_unsupervised.py:181\u001b[0m, in \u001b[0;36m_silhouette_reduce\u001b[0;34m(D_chunk, start, labels, label_freqs)\u001b[0m\n",
      "\u001b[1;32m    179\u001b[0m         sample_weights \u001b[38;5;241m=\u001b[39m D_chunk[i]\n",
      "\u001b[1;32m    180\u001b[0m         sample_labels \u001b[38;5;241m=\u001b[39m labels\n",
      "\u001b[0;32m--> 181\u001b[0m         cluster_distances[i] \u001b[38;5;241m+\u001b[39m\u001b[38;5;241m=\u001b[39m \u001b[43mnp\u001b[49m\u001b[38;5;241;43m.\u001b[39;49m\u001b[43mbincount\u001b[49m\u001b[43m(\u001b[49m\n",
      "\u001b[1;32m    182\u001b[0m \u001b[43m            \u001b[49m\u001b[43msample_labels\u001b[49m\u001b[43m,\u001b[49m\u001b[43m \u001b[49m\u001b[43mweights\u001b[49m\u001b[38;5;241;43m=\u001b[39;49m\u001b[43msample_weights\u001b[49m\u001b[43m,\u001b[49m\u001b[43m \u001b[49m\u001b[43mminlength\u001b[49m\u001b[38;5;241;43m=\u001b[39;49m\u001b[38;5;28;43mlen\u001b[39;49m\u001b[43m(\u001b[49m\u001b[43mlabel_freqs\u001b[49m\u001b[43m)\u001b[49m\n",
      "\u001b[1;32m    183\u001b[0m \u001b[43m        \u001b[49m\u001b[43m)\u001b[49m\n",
      "\u001b[1;32m    185\u001b[0m \u001b[38;5;66;03m# intra_index selects intra-cluster distances within cluster_distances\u001b[39;00m\n",
      "\u001b[1;32m    186\u001b[0m end \u001b[38;5;241m=\u001b[39m start \u001b[38;5;241m+\u001b[39m n_chunk_samples\n",
      "\n",
      "File \u001b[0;32m/Library/Frameworks/Python.framework/Versions/3.12/lib/python3.12/site-packages/numpy/core/multiarray.py:892\u001b[0m, in \u001b[0;36mbincount\u001b[0;34m(x, weights, minlength)\u001b[0m\n",
      "\u001b[1;32m    836\u001b[0m \u001b[38;5;250m    \u001b[39m\u001b[38;5;124;03m\"\"\"\u001b[39;00m\n",
      "\u001b[1;32m    837\u001b[0m \u001b[38;5;124;03m    vdot(a, b, /)\u001b[39;00m\n",
      "\u001b[1;32m    838\u001b[0m \n",
      "\u001b[0;32m   (...)\u001b[0m\n",
      "\u001b[1;32m    887\u001b[0m \n",
      "\u001b[1;32m    888\u001b[0m \u001b[38;5;124;03m    \"\"\"\u001b[39;00m\n",
      "\u001b[1;32m    889\u001b[0m     \u001b[38;5;28;01mreturn\u001b[39;00m (a, b)\n",
      "\u001b[0;32m--> 892\u001b[0m \u001b[38;5;129m@array_function_from_c_func_and_dispatcher\u001b[39m(_multiarray_umath\u001b[38;5;241m.\u001b[39mbincount)\n",
      "\u001b[1;32m    893\u001b[0m \u001b[38;5;28;01mdef\u001b[39;00m \u001b[38;5;21mbincount\u001b[39m(x, weights\u001b[38;5;241m=\u001b[39m\u001b[38;5;28;01mNone\u001b[39;00m, minlength\u001b[38;5;241m=\u001b[39m\u001b[38;5;28;01mNone\u001b[39;00m):\n",
      "\u001b[1;32m    894\u001b[0m \u001b[38;5;250m    \u001b[39m\u001b[38;5;124;03m\"\"\"\u001b[39;00m\n",
      "\u001b[1;32m    895\u001b[0m \u001b[38;5;124;03m    bincount(x, /, weights=None, minlength=0)\u001b[39;00m\n",
      "\u001b[1;32m    896\u001b[0m \n",
      "\u001b[0;32m   (...)\u001b[0m\n",
      "\u001b[1;32m    964\u001b[0m \n",
      "\u001b[1;32m    965\u001b[0m \u001b[38;5;124;03m    \"\"\"\u001b[39;00m\n",
      "\u001b[1;32m    966\u001b[0m     \u001b[38;5;28;01mreturn\u001b[39;00m (x, weights)\n",
      "\n",
      "\u001b[0;31mKeyboardInterrupt\u001b[0m: "
     ]
    }
   ],
   "source": [
    "km_inertias, km_scores = [], []\n",
    "\n",
    "for k in range(2, 8):\n",
    "    km = KMeans(n_clusters=k).fit(X_scaled)\n",
    "    km_inertias.append(km.inertia_)\n",
    "    km_scores.append(silhouette_score(X_scaled, km.labels_))"
   ]
  },
  {
   "cell_type": "code",
   "execution_count": null,
   "metadata": {},
   "outputs": [
    {
     "data": {
      "image/png": "[encoded data removed]",
      "text/plain": [
       "<Figure size 640x480 with 1 Axes>"
      ]
     },
     "metadata": {},
     "output_type": "display_data"
    }
   ],
   "source": [
    "sns.lineplot(x=range(2, 8), y=km_inertias)\n",
    "plt.title('elbow graph / inertia depending on k')\n",
    "plt.show()"
   ]
  },
  {
   "cell_type": "code",
   "execution_count": null,
   "metadata": {},
   "outputs": [
    {
     "data": {
      "image/png": "[encoded data removed]",
      "text/plain": [
       "<Figure size 640x480 with 1 Axes>"
      ]
     },
     "metadata": {},
     "output_type": "display_data"
    }
   ],
   "source": [
    "sns.lineplot(x=range(2, 8), y=km_scores)\n",
    "plt.title('scores depending on k')\n",
    "plt.show()"
   ]
  },
  {
   "cell_type": "code",
   "execution_count": null,
   "metadata": {},
   "outputs": [],
   "source": [
    "kmeans = KMeans(n_clusters=4, random_state=42)  # Adjust n_clusters based on your analysis\n",
    "df_unique['cluster'] = kmeans.fit_predict(X_scaled)"
   ]
  },
  {
   "cell_type": "code",
   "execution_count": null,
   "metadata": {},
   "outputs": [],
   "source": [
    "km = KMeans(n_clusters=4).fit(X_scaled)"
   ]
  },
  {
   "cell_type": "code",
   "execution_count": null,
   "metadata": {},
   "outputs": [
    {
     "name": "stdout",
     "output_type": "stream",
     "text": [
      "silhouette_score is : 0.4918115866952646\n"
     ]
    }
   ],
   "source": [
    "print(\"silhouette_score is :\",silhouette_score(X_scaled, kmeans.labels_, metric='euclidean'))"
   ]
  },
  {
   "cell_type": "code",
   "execution_count": null,
   "metadata": {},
   "outputs": [
    {
     "data": {
      "text/plain": [
       "Index(['sel_num_of_rooms', 'if_children', 'nights', 'adults', 'children',\n",
       "       'children_age_mean', 'conversion', 'total_price_p_night',\n",
       "       'upsell_total_price', 'lead_time'],\n",
       "      dtype='object')"
      ]
     },
     "metadata": {},
     "output_type": "display_data"
    }
   ],
   "source": [
    "X.columns"
   ]
  },
  {
   "cell_type": "code",
   "execution_count": null,
   "metadata": {},
   "outputs": [
    {
     "data": {
      "image/png": "[encoded data removed]",
      "text/plain": [
       "<Figure size 1000x600 with 1 Axes>"
      ]
     },
     "metadata": {},
     "output_type": "display_data"
    }
   ],
   "source": [
    "# K-Means visualization on pair of 2 features\n",
    "plt.figure(figsize=(10, 6))\n",
    "sns.scatterplot(x=X.iloc[:, 8], y=X.iloc[:, 7], hue=km.labels_)\n",
    "plt.show()"
   ]
  },
  {
   "cell_type": "code",
   "execution_count": null,
   "metadata": {},
   "outputs": [
    {
     "data": {
      "text/html": [
       "<div>\n",
       "<style scoped>\n",
       "    .dataframe tbody tr th:only-of-type {\n",
       "        vertical-align: middle;\n",
       "    }\n",
       "\n",
       "    .dataframe tbody tr th {\n",
       "        vertical-align: top;\n",
       "    }\n",
       "\n",
       "    .dataframe thead th {\n",
       "        text-align: right;\n",
       "    }\n",
       "</style>\n",
       "<table border=\"1\" class=\"dataframe\">\n",
       "  <thead>\n",
       "    <tr style=\"text-align: right;\">\n",
       "      <th></th>\n",
       "      <th>sel_num_of_rooms</th>\n",
       "      <th>if_children</th>\n",
       "      <th>nights</th>\n",
       "      <th>adults</th>\n",
       "      <th>children</th>\n",
       "      <th>children_age_mean</th>\n",
       "      <th>conversion</th>\n",
       "      <th>total_price_p_night</th>\n",
       "      <th>upsell_total_price</th>\n",
       "      <th>lead_time</th>\n",
       "    </tr>\n",
       "    <tr>\n",
       "      <th>cluster</th>\n",
       "      <th></th>\n",
       "      <th></th>\n",
       "      <th></th>\n",
       "      <th></th>\n",
       "      <th></th>\n",
       "      <th></th>\n",
       "      <th></th>\n",
       "      <th></th>\n",
       "      <th></th>\n",
       "      <th></th>\n",
       "    </tr>\n",
       "  </thead>\n",
       "  <tbody>\n",
       "    <tr>\n",
       "      <th>0</th>\n",
       "      <td>1.056518</td>\n",
       "      <td>1.000000</td>\n",
       "      <td>2.508296</td>\n",
       "      <td>2.003855</td>\n",
       "      <td>1.575499</td>\n",
       "      <td>7.920679</td>\n",
       "      <td>0.000000</td>\n",
       "      <td>NaN</td>\n",
       "      <td>NaN</td>\n",
       "      <td>46.397520</td>\n",
       "    </tr>\n",
       "    <tr>\n",
       "      <th>1</th>\n",
       "      <td>2.270638</td>\n",
       "      <td>0.388085</td>\n",
       "      <td>2.481702</td>\n",
       "      <td>4.291064</td>\n",
       "      <td>0.767660</td>\n",
       "      <td>7.671528</td>\n",
       "      <td>0.039149</td>\n",
       "      <td>62408.192705</td>\n",
       "      <td>733.695652</td>\n",
       "      <td>55.834043</td>\n",
       "    </tr>\n",
       "    <tr>\n",
       "      <th>2</th>\n",
       "      <td>1.092939</td>\n",
       "      <td>0.250000</td>\n",
       "      <td>2.522334</td>\n",
       "      <td>2.144092</td>\n",
       "      <td>0.389049</td>\n",
       "      <td>7.878205</td>\n",
       "      <td>1.000000</td>\n",
       "      <td>73615.192391</td>\n",
       "      <td>1286.661562</td>\n",
       "      <td>52.997839</td>\n",
       "    </tr>\n",
       "    <tr>\n",
       "      <th>3</th>\n",
       "      <td>1.002926</td>\n",
       "      <td>0.000000</td>\n",
       "      <td>2.401102</td>\n",
       "      <td>2.012315</td>\n",
       "      <td>0.000000</td>\n",
       "      <td>NaN</td>\n",
       "      <td>0.000000</td>\n",
       "      <td>NaN</td>\n",
       "      <td>NaN</td>\n",
       "      <td>41.584745</td>\n",
       "    </tr>\n",
       "  </tbody>\n",
       "</table>\n",
       "</div>"
      ],
      "text/plain": [
       "         sel_num_of_rooms  if_children    nights    adults  children  \\\n",
       "cluster                                                                \n",
       "0                1.056518     1.000000  2.508296  2.003855  1.575499   \n",
       "1                2.270638     0.388085  2.481702  4.291064  0.767660   \n",
       "2                1.092939     0.250000  2.522334  2.144092  0.389049   \n",
       "3                1.002926     0.000000  2.401102  2.012315  0.000000   \n",
       "\n",
       "         children_age_mean  conversion  total_price_p_night  \\\n",
       "cluster                                                       \n",
       "0                 7.920679    0.000000                  NaN   \n",
       "1                 7.671528    0.039149         62408.192705   \n",
       "2                 7.878205    1.000000         73615.192391   \n",
       "3                      NaN    0.000000                  NaN   \n",
       "\n",
       "         upsell_total_price  lead_time  \n",
       "cluster                                 \n",
       "0                       NaN  46.397520  \n",
       "1                733.695652  55.834043  \n",
       "2               1286.661562  52.997839  \n",
       "3                       NaN  41.584745  "
      ]
     },
     "metadata": {},
     "output_type": "display_data"
    }
   ],
   "source": [
    "cluster_analysis = df_unique.groupby('cluster')[['sel_num_of_rooms','if_children','nights','adults','children','children_age_mean','conversion','total_price_p_night','upsell_total_price','lead_time']].mean()\n",
    "cluster_analysis"
   ]
  },
  {
   "cell_type": "code",
   "execution_count": null,
   "metadata": {},
   "outputs": [
    {
     "data": {
      "text/plain": [
       "cluster\n",
       "3    14697\n",
       "0     5967\n",
       "2     1388\n",
       "1     1175\n",
       "Name: count, dtype: int64"
      ]
     },
     "metadata": {},
     "output_type": "display_data"
    }
   ],
   "source": [
    "df_unique['cluster'].value_counts()"
   ]
  },
  {
   "cell_type": "code",
   "execution_count": null,
   "metadata": {},
   "outputs": [
    {
     "data": {
      "text/plain": [
       "Index(['search_log_session_id', 'search_log_id', 'session_id',\n",
       "       'search_log_room_id', 'uuid', 'utc_datetime', 'utm_source',\n",
       "       'utm_medium', 'utm_campaign', 'lang_code', 'currency', 'arrival',\n",
       "       'departure', 'nights', 'adults', 'children', 'if_children',\n",
       "       'children_age_mean', 'conversion', 'sel_num_of_rooms',\n",
       "       'mean_room_price', 'total_price_p_night', 'picked_room', 'baby_bed',\n",
       "       'pieces', 'sum_price', 'total_price_final', 'rooms_total_price',\n",
       "       'upsell_total_price', 'vouchers_total_price', 'loyalty_discount_total',\n",
       "       'redeemed_loyalty_points_total', 'hotel_id', 'rfm_monetary_score',\n",
       "       'rfm_duration_score', '0_age', '1_age', '2_age', '3_age', '4_age',\n",
       "       'ROOMAA_room_price_min', 'offered_price_median', 'offered_price_min',\n",
       "       'offered_price_max', 'ROOMAA_room_price_max', 'ROOMBB_room_price_min',\n",
       "       'ROOMBB_room_price_max', 'ROOMCC_room_price_min',\n",
       "       'ROOMCC_room_price_max', 'ROOMDD_room_price_min',\n",
       "       'ROOMDD_room_price_max', 'ROOMEE_room_price_min',\n",
       "       'ROOMEE_room_price_max', 'ROOMFF_room_price_min',\n",
       "       'ROOMFF_room_price_max', 'ROOMGG_room_price_min',\n",
       "       'ROOMGG_room_price_max', 'ROOMHH_room_price_min',\n",
       "       'ROOMHH_room_price_max', 'day_of_week', 'is_holiday', 'time_of_day',\n",
       "       'stay_dates', 'lead_time', 'lead_time_category', 'arrival_day_of_week',\n",
       "       'departure_day_of_week', 'arrival_is_holiday', 'departure_is_holiday',\n",
       "       'stay_includes_weekend', 'days_of_week_in_stay', 'num_saturdays',\n",
       "       'num_sundays', 'cluster'],\n",
       "      dtype='object')"
      ]
     },
     "metadata": {},
     "output_type": "display_data"
    }
   ],
   "source": [
    "df_unique.columns"
   ]
  },
  {
   "cell_type": "code",
   "execution_count": null,
   "metadata": {},
   "outputs": [
    {
     "name": "stdout",
     "output_type": "stream",
     "text": [
      "cluster nb : 0\n",
      "            nights       adults     children  if_children  children_age_mean  \\\n",
      "count  5967.000000  5967.000000  5967.000000       5967.0        5919.000000   \n",
      "mean      2.508296     2.003855     1.575499          1.0           7.920679   \n",
      "std       1.000447     0.403411     0.657066          0.0           4.406163   \n",
      "min       0.000000     1.000000     1.000000          1.0           0.000000   \n",
      "25%       2.000000     2.000000     1.000000          1.0           4.000000   \n",
      "50%       2.000000     2.000000     1.000000          1.0           8.000000   \n",
      "75%       3.000000     2.000000     2.000000          1.0          11.000000   \n",
      "max       9.000000     6.000000     6.000000          1.0          17.000000   \n",
      "\n",
      "       conversion  sel_num_of_rooms  total_price_p_night  upsell_total_price  \\\n",
      "count      5967.0       5945.000000                  0.0                 0.0   \n",
      "mean          0.0          1.056518                  NaN                 NaN   \n",
      "std           0.0          0.230939                  NaN                 NaN   \n",
      "min           0.0          1.000000                  NaN                 NaN   \n",
      "25%           0.0          1.000000                  NaN                 NaN   \n",
      "50%           0.0          1.000000                  NaN                 NaN   \n",
      "75%           0.0          1.000000                  NaN                 NaN   \n",
      "max           0.0          2.000000                  NaN                 NaN   \n",
      "\n",
      "       offered_price_median  \n",
      "count           4929.000000  \n",
      "mean          119358.688135  \n",
      "std            38938.096227  \n",
      "min            21105.000000  \n",
      "25%            94860.000000  \n",
      "50%           114618.000000  \n",
      "75%           138896.850000  \n",
      "max           328841.100000  \n",
      "\n",
      "\n",
      "\n",
      "cluster nb : 1\n",
      "            nights       adults     children  if_children  children_age_mean  \\\n",
      "count  1175.000000  1175.000000  1175.000000  1175.000000         240.000000   \n",
      "mean      2.481702     4.291064     0.767660     0.388085           7.671528   \n",
      "std       0.909610     0.954884     1.193242     0.487522           4.919916   \n",
      "min       0.000000     2.000000     0.000000     0.000000           0.000000   \n",
      "25%       2.000000     4.000000     0.000000     0.000000           3.000000   \n",
      "50%       2.000000     4.000000     0.000000     0.000000           8.000000   \n",
      "75%       3.000000     5.000000     1.000000     1.000000          11.000000   \n",
      "max       7.000000     6.000000     6.000000     1.000000          17.000000   \n",
      "\n",
      "        conversion  sel_num_of_rooms  total_price_p_night  upsell_total_price  \\\n",
      "count  1175.000000       1175.000000            46.000000           46.000000   \n",
      "mean      0.039149          2.270638         62408.192705          733.695652   \n",
      "std       0.194032          0.568881         19949.091278         3882.811901   \n",
      "min       0.000000          1.000000         21345.000000            0.000000   \n",
      "25%       0.000000          2.000000         49437.153125            0.000000   \n",
      "50%       0.000000          2.000000         62250.000000            0.000000   \n",
      "75%       0.000000          3.000000         73955.275000            0.000000   \n",
      "max       1.000000          8.000000        114627.531111        25050.000000   \n",
      "\n",
      "       offered_price_median  \n",
      "count           1045.000000  \n",
      "mean           43183.851512  \n",
      "std            15924.903352  \n",
      "min             7115.000000  \n",
      "25%            31994.000000  \n",
      "50%            41076.625000  \n",
      "75%            52157.722222  \n",
      "max           124083.000000  \n",
      "\n",
      "\n",
      "\n",
      "cluster nb : 2\n",
      "            nights       adults     children  if_children  children_age_mean  \\\n",
      "count  1388.000000  1388.000000  1388.000000  1388.000000         338.000000   \n",
      "mean      2.522334     2.144092     0.389049     0.250000           7.878205   \n",
      "std       0.999750     0.626949     0.747943     0.433169           4.838391   \n",
      "min       1.000000     1.000000     0.000000     0.000000           0.000000   \n",
      "25%       2.000000     2.000000     0.000000     0.000000           4.000000   \n",
      "50%       2.000000     2.000000     0.000000     0.000000           7.500000   \n",
      "75%       3.000000     2.000000     0.250000     0.250000          12.000000   \n",
      "max       7.000000     5.000000     4.000000     1.000000          17.000000   \n",
      "\n",
      "       conversion  sel_num_of_rooms  total_price_p_night  upsell_total_price  \\\n",
      "count      1388.0       1388.000000          1388.000000         1388.000000   \n",
      "mean          1.0          1.092939         73615.192391         1286.661562   \n",
      "std           0.0          0.292924         28507.724564         6619.152331   \n",
      "min           1.0          1.000000         21345.000000            0.000000   \n",
      "25%           1.0          1.000000         52644.725000            0.000000   \n",
      "50%           1.0          1.000000         67239.445000            0.000000   \n",
      "75%           1.0          1.000000         87852.352119            0.000000   \n",
      "max           1.0          3.000000        227410.160000       122960.175800   \n",
      "\n",
      "       offered_price_median  \n",
      "count           1388.000000  \n",
      "mean           86848.255681  \n",
      "std            30737.892351  \n",
      "min            10672.500000  \n",
      "25%            68844.375000  \n",
      "50%            84463.638340  \n",
      "75%           102380.570283  \n",
      "max           237099.000000  \n",
      "\n",
      "\n",
      "\n",
      "cluster nb : 3\n",
      "             nights        adults  children  if_children  children_age_mean  \\\n",
      "count  14697.000000  14697.000000   14697.0      14697.0                0.0   \n",
      "mean       2.401102      2.012315       0.0          0.0                NaN   \n",
      "std        1.067742      0.307630       0.0          0.0                NaN   \n",
      "min        0.000000      1.000000       0.0          0.0                NaN   \n",
      "25%        2.000000      2.000000       0.0          0.0                NaN   \n",
      "50%        2.000000      2.000000       0.0          0.0                NaN   \n",
      "75%        3.000000      2.000000       0.0          0.0                NaN   \n",
      "max        9.000000      4.000000       0.0          0.0                NaN   \n",
      "\n",
      "       conversion  sel_num_of_rooms  total_price_p_night  upsell_total_price  \\\n",
      "count     14697.0      14697.000000                  0.0                 0.0   \n",
      "mean          0.0          1.002926                  NaN                 NaN   \n",
      "std           0.0          0.054013                  NaN                 NaN   \n",
      "min           0.0          1.000000                  NaN                 NaN   \n",
      "25%           0.0          1.000000                  NaN                 NaN   \n",
      "50%           0.0          1.000000                  NaN                 NaN   \n",
      "75%           0.0          1.000000                  NaN                 NaN   \n",
      "max           0.0          2.000000                  NaN                 NaN   \n",
      "\n",
      "       offered_price_median  \n",
      "count          14153.000000  \n",
      "mean           99921.273961  \n",
      "std            27691.343889  \n",
      "min            21345.000000  \n",
      "25%            80602.440000  \n",
      "50%            94785.720650  \n",
      "75%           113634.000000  \n",
      "max           323396.500000  \n",
      "\n",
      "\n",
      "\n"
     ]
    }
   ],
   "source": [
    "for k in range(4):\n",
    "    print(f'cluster nb : {k}')\n",
    "    print(df_unique[df_unique['cluster'] == k][['nights','adults','children','if_children','children_age_mean','conversion','sel_num_of_rooms','total_price_p_night','upsell_total_price','offered_price_median']].describe())#.iloc[[0, 1, 3, 7], :-1])\n",
    "    print('\\n\\n')"
   ]
  },
  {
   "cell_type": "code",
   "execution_count": null,
   "metadata": {},
   "outputs": [
    {
     "data": {
      "text/html": [
       "<div>\n",
       "<style scoped>\n",
       "    .dataframe tbody tr th:only-of-type {\n",
       "        vertical-align: middle;\n",
       "    }\n",
       "\n",
       "    .dataframe tbody tr th {\n",
       "        vertical-align: top;\n",
       "    }\n",
       "\n",
       "    .dataframe thead th {\n",
       "        text-align: right;\n",
       "    }\n",
       "</style>\n",
       "<table border=\"1\" class=\"dataframe\">\n",
       "  <thead>\n",
       "    <tr style=\"text-align: right;\">\n",
       "      <th></th>\n",
       "      <th>nights</th>\n",
       "      <th>adults</th>\n",
       "      <th>children</th>\n",
       "      <th>if_children</th>\n",
       "      <th>children_age_mean</th>\n",
       "      <th>conversion</th>\n",
       "      <th>sel_num_of_rooms</th>\n",
       "      <th>total_price_p_night</th>\n",
       "      <th>upsell_total_price</th>\n",
       "      <th>offered_price_median</th>\n",
       "    </tr>\n",
       "  </thead>\n",
       "  <tbody>\n",
       "    <tr>\n",
       "      <th>count</th>\n",
       "      <td>1388.000000</td>\n",
       "      <td>1388.000000</td>\n",
       "      <td>1388.000000</td>\n",
       "      <td>1388.000000</td>\n",
       "      <td>338.000000</td>\n",
       "      <td>1388.0</td>\n",
       "      <td>1388.000000</td>\n",
       "      <td>1388.000000</td>\n",
       "      <td>1388.000000</td>\n",
       "      <td>1388.000000</td>\n",
       "    </tr>\n",
       "    <tr>\n",
       "      <th>mean</th>\n",
       "      <td>2.522334</td>\n",
       "      <td>2.144092</td>\n",
       "      <td>0.389049</td>\n",
       "      <td>0.250000</td>\n",
       "      <td>7.878205</td>\n",
       "      <td>1.0</td>\n",
       "      <td>1.092939</td>\n",
       "      <td>73615.192391</td>\n",
       "      <td>1286.661562</td>\n",
       "      <td>86848.255681</td>\n",
       "    </tr>\n",
       "    <tr>\n",
       "      <th>std</th>\n",
       "      <td>0.999750</td>\n",
       "      <td>0.626949</td>\n",
       "      <td>0.747943</td>\n",
       "      <td>0.433169</td>\n",
       "      <td>4.838391</td>\n",
       "      <td>0.0</td>\n",
       "      <td>0.292924</td>\n",
       "      <td>28507.724564</td>\n",
       "      <td>6619.152331</td>\n",
       "      <td>30737.892351</td>\n",
       "    </tr>\n",
       "    <tr>\n",
       "      <th>min</th>\n",
       "      <td>1.000000</td>\n",
       "      <td>1.000000</td>\n",
       "      <td>0.000000</td>\n",
       "      <td>0.000000</td>\n",
       "      <td>0.000000</td>\n",
       "      <td>1.0</td>\n",
       "      <td>1.000000</td>\n",
       "      <td>21345.000000</td>\n",
       "      <td>0.000000</td>\n",
       "      <td>10672.500000</td>\n",
       "    </tr>\n",
       "    <tr>\n",
       "      <th>25%</th>\n",
       "      <td>2.000000</td>\n",
       "      <td>2.000000</td>\n",
       "      <td>0.000000</td>\n",
       "      <td>0.000000</td>\n",
       "      <td>4.000000</td>\n",
       "      <td>1.0</td>\n",
       "      <td>1.000000</td>\n",
       "      <td>52644.725000</td>\n",
       "      <td>0.000000</td>\n",
       "      <td>68844.375000</td>\n",
       "    </tr>\n",
       "    <tr>\n",
       "      <th>50%</th>\n",
       "      <td>2.000000</td>\n",
       "      <td>2.000000</td>\n",
       "      <td>0.000000</td>\n",
       "      <td>0.000000</td>\n",
       "      <td>7.500000</td>\n",
       "      <td>1.0</td>\n",
       "      <td>1.000000</td>\n",
       "      <td>67239.445000</td>\n",
       "      <td>0.000000</td>\n",
       "      <td>84463.638340</td>\n",
       "    </tr>\n",
       "    <tr>\n",
       "      <th>75%</th>\n",
       "      <td>3.000000</td>\n",
       "      <td>2.000000</td>\n",
       "      <td>0.250000</td>\n",
       "      <td>0.250000</td>\n",
       "      <td>12.000000</td>\n",
       "      <td>1.0</td>\n",
       "      <td>1.000000</td>\n",
       "      <td>87852.352119</td>\n",
       "      <td>0.000000</td>\n",
       "      <td>102380.570283</td>\n",
       "    </tr>\n",
       "    <tr>\n",
       "      <th>max</th>\n",
       "      <td>7.000000</td>\n",
       "      <td>5.000000</td>\n",
       "      <td>4.000000</td>\n",
       "      <td>1.000000</td>\n",
       "      <td>17.000000</td>\n",
       "      <td>1.0</td>\n",
       "      <td>3.000000</td>\n",
       "      <td>227410.160000</td>\n",
       "      <td>122960.175800</td>\n",
       "      <td>237099.000000</td>\n",
       "    </tr>\n",
       "  </tbody>\n",
       "</table>\n",
       "</div>"
      ],
      "text/plain": [
       "            nights       adults     children  if_children  children_age_mean  \\\n",
       "count  1388.000000  1388.000000  1388.000000  1388.000000         338.000000   \n",
       "mean      2.522334     2.144092     0.389049     0.250000           7.878205   \n",
       "std       0.999750     0.626949     0.747943     0.433169           4.838391   \n",
       "min       1.000000     1.000000     0.000000     0.000000           0.000000   \n",
       "25%       2.000000     2.000000     0.000000     0.000000           4.000000   \n",
       "50%       2.000000     2.000000     0.000000     0.000000           7.500000   \n",
       "75%       3.000000     2.000000     0.250000     0.250000          12.000000   \n",
       "max       7.000000     5.000000     4.000000     1.000000          17.000000   \n",
       "\n",
       "       conversion  sel_num_of_rooms  total_price_p_night  upsell_total_price  \\\n",
       "count      1388.0       1388.000000          1388.000000         1388.000000   \n",
       "mean          1.0          1.092939         73615.192391         1286.661562   \n",
       "std           0.0          0.292924         28507.724564         6619.152331   \n",
       "min           1.0          1.000000         21345.000000            0.000000   \n",
       "25%           1.0          1.000000         52644.725000            0.000000   \n",
       "50%           1.0          1.000000         67239.445000            0.000000   \n",
       "75%           1.0          1.000000         87852.352119            0.000000   \n",
       "max           1.0          3.000000        227410.160000       122960.175800   \n",
       "\n",
       "       offered_price_median  \n",
       "count           1388.000000  \n",
       "mean           86848.255681  \n",
       "std            30737.892351  \n",
       "min            10672.500000  \n",
       "25%            68844.375000  \n",
       "50%            84463.638340  \n",
       "75%           102380.570283  \n",
       "max           237099.000000  "
      ]
     },
     "metadata": {},
     "output_type": "display_data"
    }
   ],
   "source": [
    "df_unique[df_unique['cluster'] == 2][['nights','adults','children','if_children','children_age_mean','conversion','sel_num_of_rooms','total_price_p_night','upsell_total_price','offered_price_median']].describe()"
   ]
  },
  {
   "cell_type": "code",
   "execution_count": null,
   "metadata": {},
   "outputs": [],
   "source": []
  }
 ],
 "metadata": {
  "language_info": {
   "name": "python"
  }
 },
 "nbformat": 4,
 "nbformat_minor": 2
}
